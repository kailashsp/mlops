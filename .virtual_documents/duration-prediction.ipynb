!python -V


import pandas as pdb
import matplotlib.pyplot as plt
# import seaborn as sns



taxi_trip_jan = pd.read_parquet("./data/green_tripdata_2021-01.parquet")


taxi_trip_jan.head()


taxi_trip_jan.describe(percentiles=[.80,.90])


taxi_trip_jan.lpep_dropoff_datetime = pd.to_datetime(taxi_trip_jan.lpep_dropoff_datetime)
taxi_trip_jan.lpep_pickup_datetime = pd.to_datetime(taxi_trip_jan.lpep_pickup_datetime)


taxi_trip_jan['duration'] = taxi_trip_jan.lpep_dropoff_datetime - taxi_trip_jan.lpep_pickup_datetime


taxi_trip_jan.duration = taxi_trip_jan.duration.apply(lambda x : x.total_seconds()/60)


taxi_trip_jan =  taxi_trip_jan[taxi_trip_jan.trip_type==2]


sns.scatter(taxi_trip_jan.duration)















