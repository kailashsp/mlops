{
 "cells": [
  {
   "cell_type": "code",
   "execution_count": 1,
   "id": "e3641d69-bdea-449a-b714-86c1659eddb8",
   "metadata": {},
   "outputs": [
    {
     "name": "stdout",
     "output_type": "stream",
     "text": [
      "Python 3.11.7\n"
     ]
    }
   ],
   "source": [
    "!python -V"
   ]
  },
  {
   "cell_type": "code",
   "execution_count": 2,
   "id": "7a43c7a5-ad32-4056-aba0-1bdcf9f9b162",
   "metadata": {
    "scrolled": true
   },
   "outputs": [],
   "source": [
    "import pandas as pd\n",
    "# import matplotlib.pyplot as plt\n",
    "# import seaborn as sns\n",
    "from sklearn.feature_extraction import DictVectorizer\n",
    "from sklearn.linear_model import LinearRegression\n",
    "from sklearn.linear_model import Lasso\n",
    "\n",
    "from sklearn.metrics import mean_squared_error"
   ]
  },
  {
   "cell_type": "code",
   "execution_count": 3,
   "id": "4ed4a692-c42b-4f60-890b-1bd7eec25359",
   "metadata": {},
   "outputs": [],
   "source": [
    "def read_dataframe(filename):\n",
    "    taxi_trip_jan = pd.read_parquet(filename)\n",
    "\n",
    "    \n",
    "    taxi_trip_jan.lpep_dropoff_datetime = pd.to_datetime(taxi_trip_jan.lpep_dropoff_datetime)\n",
    "    taxi_trip_jan.lpep_pickup_datetime = pd.to_datetime(taxi_trip_jan.lpep_pickup_datetime)\n",
    "    \n",
    "    taxi_trip_jan['duration'] = taxi_trip_jan.lpep_dropoff_datetime - taxi_trip_jan.lpep_pickup_datetime\n",
    "    \n",
    "    taxi_trip_jan.duration = taxi_trip_jan.duration.apply(lambda x : x.total_seconds()/60)\n",
    "    \n",
    "    \n",
    "    taxi_trip_jan = taxi_trip_jan[(taxi_trip_jan.duration >=1) & (taxi_trip_jan.duration <= 60)]\n",
    "    \n",
    "        \n",
    "    categorical = ['PULocationID', 'DOLocationID']\n",
    "    \n",
    "    taxi_trip_jan[categorical]=  taxi_trip_jan[categorical].astype(str)\n",
    "    return taxi_trip_jan\n",
    "    "
   ]
  },
  {
   "cell_type": "code",
   "execution_count": 4,
   "id": "ce7a4d8a-0cee-48b0-9a42-07e4ec825b03",
   "metadata": {},
   "outputs": [],
   "source": [
    "df_train = read_dataframe('./data/green_tripdata_2021-01.parquet')\n",
    "df_val = read_dataframe('./data/green_tripdata_2021-02.parquet')"
   ]
  },
  {
   "cell_type": "code",
   "execution_count": 5,
   "id": "32b01422-38a2-479f-a09a-232d64606210",
   "metadata": {},
   "outputs": [
    {
     "data": {
      "text/plain": [
       "(73908, 61921)"
      ]
     },
     "execution_count": 5,
     "metadata": {},
     "output_type": "execute_result"
    }
   ],
   "source": [
    "len(df_train), len(df_val)"
   ]
  },
  {
   "cell_type": "code",
   "execution_count": 6,
   "id": "14f784d2-7d4f-43b6-9b9a-adbc50a64242",
   "metadata": {
    "scrolled": true
   },
   "outputs": [
    {
     "data": {
      "text/plain": [
       "21"
      ]
     },
     "execution_count": 6,
     "metadata": {},
     "output_type": "execute_result"
    }
   ],
   "source": [
    "len(df_train.columns)"
   ]
  },
  {
   "cell_type": "code",
   "execution_count": 7,
   "id": "3a68dc8f-8428-45a6-85a2-da3b967e62f5",
   "metadata": {},
   "outputs": [
    {
     "data": {
      "text/plain": [
       "21"
      ]
     },
     "execution_count": 7,
     "metadata": {},
     "output_type": "execute_result"
    }
   ],
   "source": [
    "len(df_val.columns)"
   ]
  },
  {
   "cell_type": "code",
   "execution_count": 8,
   "id": "02b46646-b858-4b38-9580-d6b0d34b059a",
   "metadata": {},
   "outputs": [
    {
     "ename": "NameError",
     "evalue": "name 'train_dict' is not defined",
     "output_type": "error",
     "traceback": [
      "\u001b[0;31m---------------------------------------------------------------------------\u001b[0m",
      "\u001b[0;31mNameError\u001b[0m                                 Traceback (most recent call last)",
      "Cell \u001b[0;32mIn[8], line 14\u001b[0m\n\u001b[1;32m     11\u001b[0m dv\u001b[38;5;241m.\u001b[39mfit(combined_dict)\n\u001b[1;32m     13\u001b[0m \u001b[38;5;66;03m# Transform the training and validation data separately\u001b[39;00m\n\u001b[0;32m---> 14\u001b[0m X_train \u001b[38;5;241m=\u001b[39m dv\u001b[38;5;241m.\u001b[39mtransform(train_dict)\n\u001b[1;32m     15\u001b[0m X_val \u001b[38;5;241m=\u001b[39m dv\u001b[38;5;241m.\u001b[39mtransform(val_dict)\n",
      "\u001b[0;31mNameError\u001b[0m: name 'train_dict' is not defined"
     ]
    }
   ],
   "source": [
    "categorical = ['PULocationID', 'DOLocationID']\n",
    "numerical = ['trip_distance']\n",
    "# Combine the training and validation data\n",
    "combined_data = pd.concat([df_train, df_val], ignore_index=True)\n",
    "\n",
    "# Create a dictionary of features\n",
    "combined_dict = combined_data[categorical + numerical].to_dict(orient=\"records\")\n",
    "\n",
    "# Fit the DictVectorizer on the combined data\n",
    "dv = DictVectorizer()\n",
    "dv.fit(combined_dict)\n",
    "\n",
    "# Transform the training and validation data separately\n",
    "X_train = dv.transform(df_train[categorical + numerical])\n",
    "X_val = dv.transform(df_val[categorical + numerical])"
   ]
  },
  {
   "cell_type": "code",
   "execution_count": null,
   "id": "91298cca-86e6-48bc-b588-11f57b2592cf",
   "metadata": {},
   "outputs": [],
   "source": [
    "X_val"
   ]
  },
  {
   "cell_type": "code",
   "execution_count": null,
   "id": "32f1fe32-bb0d-4f02-8793-e5b521e57bdc",
   "metadata": {},
   "outputs": [],
   "source": [
    "target = 'duration'\n",
    "\n",
    "y_train = df_train[target].values\n",
    "\n",
    "y_val = df_val[target].values"
   ]
  },
  {
   "cell_type": "code",
   "execution_count": null,
   "id": "57181514-93ac-43f7-a02b-179119dffd8e",
   "metadata": {},
   "outputs": [],
   "source": [
    "\n",
    "\n",
    "lr = LinearRegression()\n",
    "\n",
    "lr.fit(X_train,y_train)\n",
    "\n",
    "y_pred = lr.predict(X_val)\n",
    "\n",
    "loss = mean_squared_error(y_val, y_pred, squared=False)\n",
    "\n",
    "loss"
   ]
  },
  {
   "cell_type": "code",
   "execution_count": null,
   "id": "93f07850-8379-4039-b24c-ce71cc6409c6",
   "metadata": {},
   "outputs": [],
   "source": [
    "\n",
    "lr = Lasso()\n",
    "\n",
    "lr.fit(X_train,y_train)\n",
    "\n",
    "y_pred = lr.predict(X_val)\n",
    "\n",
    "loss = mean_squared_error(y_val, y_pred, squared=False)\n",
    "\n",
    "loss"
   ]
  },
  {
   "cell_type": "code",
   "execution_count": null,
   "id": "3ef53da3-99fc-4343-a3d0-c85877d19014",
   "metadata": {},
   "outputs": [],
   "source": []
  },
  {
   "cell_type": "code",
   "execution_count": null,
   "id": "576f93aa-c055-40b2-b2ea-0233986cedb0",
   "metadata": {},
   "outputs": [],
   "source": [
    "# import seaborn as sns\n"
   ]
  }
 ],
 "metadata": {
  "kernelspec": {
   "display_name": "Python 3 (ipykernel)",
   "language": "python",
   "name": "python3"
  },
  "language_info": {
   "codemirror_mode": {
    "name": "ipython",
    "version": 3
   },
   "file_extension": ".py",
   "mimetype": "text/x-python",
   "name": "python",
   "nbconvert_exporter": "python",
   "pygments_lexer": "ipython3",
   "version": "3.11.7"
  }
 },
 "nbformat": 4,
 "nbformat_minor": 5
}
